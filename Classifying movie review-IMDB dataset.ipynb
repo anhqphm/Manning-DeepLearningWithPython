{
 "cells": [
  {
   "cell_type": "markdown",
   "metadata": {},
   "source": [
    "# The IMDB dataset\n",
    "\n",
    "This is a set of 50,000 highly polarized reviews from the Internet Movie Database. They’re split into 25,000 reviews for training and 25,000 reviews for testing, each set consisting of 50% negative and 50% positive reviews. \n",
    "\n",
    "\n"
   ]
  },
  {
   "cell_type": "markdown",
   "metadata": {},
   "source": [
    "## 1. Loading the IMDB dataset"
   ]
  },
  {
   "cell_type": "code",
   "execution_count": 1,
   "metadata": {},
   "outputs": [
    {
     "name": "stderr",
     "output_type": "stream",
     "text": [
      "Using TensorFlow backend.\n"
     ]
    }
   ],
   "source": [
    "from keras.datasets import imdb\n"
   ]
  },
  {
   "cell_type": "code",
   "execution_count": 2,
   "metadata": {},
   "outputs": [
    {
     "name": "stdout",
     "output_type": "stream",
     "text": [
      "Downloading data from https://s3.amazonaws.com/text-datasets/imdb.npz\n",
      "16343040/17464789 [===========================>..] - ETA: 0s"
     ]
    }
   ],
   "source": [
    "(train_data, train_labels),(test_data, test_labels) = imdb.load_data(num_words=10000)"
   ]
  },
  {
   "cell_type": "markdown",
   "metadata": {},
   "source": [
    "The variables train_data and test_data are lists of reviews; each review is a list of word indices (encoding a sequence of words). train_labels and test_labels are lists of 0s and 1s, where 0 stands for negative and 1 stands for positive"
   ]
  },
  {
   "cell_type": "markdown",
   "metadata": {},
   "source": [
    "## 2. Preparing the data\n",
    "\n",
    "Lists of intefers can't be fed into a neural networks but they have to be transformed into tensors instead. There are two ways to do that:\n",
    "1. Pad your lists so that they all have the same length, turn them into an integer tensor of shape (samples, word_indices) and then use as the first layer in your network a layer capable of handling such integer tensors (the Embedding layer)\n",
    "2. One-hot encode your lists to turn them into vectors of 0s and 1s. Then you could use as the first layer in your network a Dense layer, capable of handling floating-point vector data.\n",
    "\n"
   ]
  },
  {
   "cell_type": "code",
   "execution_count": 4,
   "metadata": {},
   "outputs": [],
   "source": [
    "import numpy as np\n",
    "\n",
    "def vectorize_sequences(sequences, dimensions = 10000):\n",
    "    results = np.zeros((len(sequences), dimensions))\n",
    "    for i, sequence in enumerate(sequences):\n",
    "        results[i,sequence]=1.\n",
    "    return results\n",
    "\n",
    "x_train = vectorize_sequences(train_data)\n",
    "x_test = vectorize_sequences(test_data)\n"
   ]
  },
  {
   "cell_type": "code",
   "execution_count": 5,
   "metadata": {},
   "outputs": [],
   "source": [
    "y_train = np.asarray(train_labels).astype('float32')\n",
    "y_test = np.asarray(test_labels).astype('float32')"
   ]
  },
  {
   "cell_type": "markdown",
   "metadata": {},
   "source": [
    "## 3. Building your network\n",
    "\n",
    "Input data: vectors\n",
    "Labels: scalars\n",
    "This is the easiest setup. A type of network that performs well on such a problem is a simple stack of fully connected (Dense) layers with relu activations.\n",
    "\n",
    "There are 02 keys architecture decisions to be made about such a stack of Dense layers:\n",
    "- How many layers to use\n",
    "- How many hidden units to choose for each layer \n",
    "\n",
    "\n",
    "A relu (rectified linear unit) is a function meant to zero out negative values, whereas a sigmoid \"squashes\" arbitrary values into the [0,1] interval, outputting something that can be interpreted as a probability."
   ]
  },
  {
   "cell_type": "code",
   "execution_count": 7,
   "metadata": {},
   "outputs": [],
   "source": [
    "# Model definition \n",
    "from keras import models\n",
    "from keras import layers\n",
    "\n",
    "model = models.Sequential()\n",
    "model.add(layers.Dense(16, activation = 'relu', input_shape=(10000,)))\n",
    "model.add(layers.Dense(16, activation = 'relu'))\n",
    "model.add(layers.Dense(1, activation = 'sigmoid'))\n"
   ]
  },
  {
   "cell_type": "markdown",
   "metadata": {},
   "source": [
    "### What are activation functions and why are they neccessary?\n",
    "\n",
    "Without an activation function like relu (non-linearity), the Dense layer would consist of 2 linear operations - a dot product and an addition so the layer could only learn linear transformations of the input data. Such a hypothesis space is too restricted and wouldn't benefit from multiple layers of represenations, because a deep stack of linear layers would still implement a linear operation: adding more layers wouldn't extend the hypothesis space. \n",
    "\n",
    "In order to get access to a much richer hypothesis space that would benefit from deep representations, you need a non-linearity, or acitvation function"
   ]
  },
  {
   "cell_type": "code",
   "execution_count": 8,
   "metadata": {},
   "outputs": [],
   "source": [
    "# Compiling the model\n",
    "model.compile(optimizer='rmsprop', loss = 'binary_crossentropy', metrics = ['accuracy'])"
   ]
  },
  {
   "cell_type": "markdown",
   "metadata": {},
   "source": [
    "Cross entropy is usually the best choice when you're dealing with models that output probabilities. Cross entropy is a quantity from the field of Information Theory that measures the distance between probability distributions or between the ground-truth distribution and your predictions. "
   ]
  },
  {
   "cell_type": "code",
   "execution_count": 9,
   "metadata": {},
   "outputs": [],
   "source": [
    "# Configure the optimizer\n",
    "from keras import optimizers\n",
    "\n",
    "model.compile(optimizer = optimizers.RMSprop(lr=0.001), loss = 'binary_crossentropy', metrics=['accuracy'])"
   ]
  },
  {
   "cell_type": "code",
   "execution_count": 10,
   "metadata": {},
   "outputs": [],
   "source": [
    "# Using custom losses and metrics\n",
    "\n",
    "from keras import losses\n",
    "from keras import metrics\n",
    "\n",
    "model.compile(optimizer = optimizers.RMSprop(lr=0.001),\n",
    "             loss=losses.binary_crossentropy,\n",
    "             metrics=[metrics.binary_accuracy])"
   ]
  },
  {
   "cell_type": "markdown",
   "metadata": {},
   "source": [
    "## 4. Validating your approach"
   ]
  },
  {
   "cell_type": "code",
   "execution_count": 12,
   "metadata": {},
   "outputs": [],
   "source": [
    "# Setting aside a validation set\n",
    "x_val = x_train[:10000]\n",
    "partial_x_train = x_train[10000:]\n",
    "y_val = y_train[:10000]\n",
    "partial_y_train = y_train[10000:]"
   ]
  },
  {
   "cell_type": "code",
   "execution_count": 14,
   "metadata": {},
   "outputs": [
    {
     "name": "stdout",
     "output_type": "stream",
     "text": [
      "Train on 15000 samples, validate on 10000 samples\n",
      "Epoch 1/20\n",
      "15000/15000 [==============================] - 1s - loss: 0.5113 - acc: 0.7841 - val_loss: 0.3873 - val_acc: 0.8618\n",
      "Epoch 2/20\n",
      "15000/15000 [==============================] - 1s - loss: 0.3068 - acc: 0.8988 - val_loss: 0.3212 - val_acc: 0.8774\n",
      "Epoch 3/20\n",
      "15000/15000 [==============================] - 1s - loss: 0.2244 - acc: 0.9284 - val_loss: 0.2983 - val_acc: 0.8815\n",
      "Epoch 4/20\n",
      "15000/15000 [==============================] - 1s - loss: 0.1805 - acc: 0.9428 - val_loss: 0.2731 - val_acc: 0.8931\n",
      "Epoch 5/20\n",
      "15000/15000 [==============================] - 1s - loss: 0.1422 - acc: 0.9563 - val_loss: 0.2934 - val_acc: 0.8834\n",
      "Epoch 6/20\n",
      "15000/15000 [==============================] - 1s - loss: 0.1188 - acc: 0.9631 - val_loss: 0.2989 - val_acc: 0.8867\n",
      "Epoch 7/20\n",
      "15000/15000 [==============================] - 1s - loss: 0.1006 - acc: 0.9687 - val_loss: 0.3068 - val_acc: 0.8842\n",
      "Epoch 8/20\n",
      "15000/15000 [==============================] - 1s - loss: 0.0839 - acc: 0.9765 - val_loss: 0.3664 - val_acc: 0.8715\n",
      "Epoch 9/20\n",
      "15000/15000 [==============================] - 1s - loss: 0.0696 - acc: 0.9810 - val_loss: 0.3545 - val_acc: 0.8761\n",
      "Epoch 10/20\n",
      "15000/15000 [==============================] - 1s - loss: 0.0589 - acc: 0.9845 - val_loss: 0.3826 - val_acc: 0.8766\n",
      "Epoch 11/20\n",
      "15000/15000 [==============================] - 1s - loss: 0.0484 - acc: 0.9879 - val_loss: 0.3971 - val_acc: 0.8746\n",
      "Epoch 12/20\n",
      "15000/15000 [==============================] - 1s - loss: 0.0395 - acc: 0.9911 - val_loss: 0.4243 - val_acc: 0.8744\n",
      "Epoch 13/20\n",
      "15000/15000 [==============================] - 1s - loss: 0.0319 - acc: 0.9931 - val_loss: 0.4511 - val_acc: 0.8731\n",
      "Epoch 14/20\n",
      "15000/15000 [==============================] - 1s - loss: 0.0255 - acc: 0.9947 - val_loss: 0.4850 - val_acc: 0.8718\n",
      "Epoch 15/20\n",
      "15000/15000 [==============================] - 1s - loss: 0.0221 - acc: 0.9960 - val_loss: 0.5093 - val_acc: 0.8697\n",
      "Epoch 16/20\n",
      "15000/15000 [==============================] - 1s - loss: 0.0176 - acc: 0.9973 - val_loss: 0.5394 - val_acc: 0.8690\n",
      "Epoch 17/20\n",
      "15000/15000 [==============================] - 1s - loss: 0.0125 - acc: 0.9985 - val_loss: 0.5718 - val_acc: 0.8686\n",
      "Epoch 18/20\n",
      "15000/15000 [==============================] - 1s - loss: 0.0109 - acc: 0.9986 - val_loss: 0.5999 - val_acc: 0.8659\n",
      "Epoch 19/20\n",
      "15000/15000 [==============================] - 1s - loss: 0.0065 - acc: 0.9997 - val_loss: 0.6582 - val_acc: 0.8678\n",
      "Epoch 20/20\n",
      "15000/15000 [==============================] - 1s - loss: 0.0077 - acc: 0.9992 - val_loss: 0.6696 - val_acc: 0.8644\n"
     ]
    }
   ],
   "source": [
    "# Training your model\n",
    "model.compile(optimizer='rmsprop',\n",
    "             loss='binary_crossentropy',\n",
    "             metrics=['acc'])\n",
    "\n",
    "history = model.fit(partial_x_train,\n",
    "                    partial_y_train,\n",
    "                    epochs=20,\n",
    "                    batch_size=512,\n",
    "                    validation_data=(x_val,y_val))\n",
    "                    "
   ]
  },
  {
   "cell_type": "code",
   "execution_count": 17,
   "metadata": {},
   "outputs": [
    {
     "data": {
      "text/plain": [
       "dict_keys(['val_loss', 'val_acc', 'loss', 'acc'])"
      ]
     },
     "execution_count": 17,
     "metadata": {},
     "output_type": "execute_result"
    }
   ],
   "source": [
    "history_dict = history.history\n",
    "history_dict.keys()"
   ]
  },
  {
   "cell_type": "code",
   "execution_count": 19,
   "metadata": {},
   "outputs": [
    {
     "data": {
      "image/png": "[encoded data removed]",
      "text/plain": [
       "<matplotlib.figure.Figure at 0x7f1a6479e518>"
      ]
     },
     "metadata": {},
     "output_type": "display_data"
    }
   ],
   "source": [
    "# Plotting the training and validation loss\n",
    "\n",
    "import matplotlib.pyplot as plt\n",
    "history_dict = history.history\n",
    "loss_values = history_dict['loss']\n",
    "val_loss_values = history_dict['val_loss']\n",
    "acc = history_dict['acc']\n",
    "epochs = range(1, len(acc)+1)\n",
    "\n",
    "plt.plot(epochs, loss_values, 'bo', label = 'Training loss')\n",
    "plt.plot(epochs, val_loss_values, 'b', label = 'Validation loss')\n",
    "plt.title('Training and validation loss')\n",
    "plt.xlabel('Epochs')\n",
    "plt.ylabel('Loss')\n",
    "plt.legend()\n",
    "\n",
    "plt.show()"
   ]
  },
  {
   "cell_type": "code",
   "execution_count": 21,
   "metadata": {},
   "outputs": [
    {
     "data": {
      "image/png": "[encoded data removed]",
      "text/plain": [
       "<matplotlib.figure.Figure at 0x7f1a643b3cf8>"
      ]
     },
     "metadata": {},
     "output_type": "display_data"
    }
   ],
   "source": [
    "# Plotting the training and validation accuracy \n",
    "plt.clf()\n",
    "acc_values = history_dict['acc']\n",
    "val_acc_values = history_dict['val_acc']\n",
    "\n",
    "plt.plot(epochs, acc_values, 'bo', label = 'Training acc')\n",
    "plt.plot(epochs, val_acc_values, 'b', label = 'Validation acc')\n",
    "plt.title('Traning and validation accuracy')\n",
    "plt.xlabel('Epochs')\n",
    "plt.ylabel('Loss')\n",
    "plt.legend()\n",
    "plt.show()"
   ]
  },
  {
   "cell_type": "code",
   "execution_count": 24,
   "metadata": {},
   "outputs": [
    {
     "name": "stdout",
     "output_type": "stream",
     "text": [
      "Epoch 1/4\n",
      "25000/25000 [==============================] - 1s - loss: 0.4819 - acc: 0.7943     \n",
      "Epoch 2/4\n",
      "25000/25000 [==============================] - 1s - loss: 0.2587 - acc: 0.9094     \n",
      "Epoch 3/4\n",
      "25000/25000 [==============================] - 1s - loss: 0.1957 - acc: 0.9289     \n",
      "Epoch 4/4\n",
      "25000/25000 [==============================] - 1s - loss: 0.1694 - acc: 0.9372     \n",
      "24512/25000 [============================>.] - ETA: 0s"
     ]
    }
   ],
   "source": [
    "# Retraining a model with 4 epochs\n",
    "\n",
    "model = models.Sequential()\n",
    "model.add(layers.Dense(16, activation = 'relu', input_shape=(10000,)))\n",
    "model.add(layers.Dense(16, activation = 'relu'))\n",
    "model.add(layers.Dense(16, activation = 'relu'))\n",
    "model.add(layers.Dense(1, activation = 'sigmoid'))\n",
    "\n",
    "model.compile(optimizer='rmsprop',\n",
    "             loss='binary_crossentropy',\n",
    "             metrics = ['accuracy'])\n",
    "\n",
    "model.fit(x_train, y_train, epochs=4,batch_size=512)\n",
    "results=model.evaluate(x_test, y_test)"
   ]
  },
  {
   "cell_type": "code",
   "execution_count": 25,
   "metadata": {},
   "outputs": [
    {
     "data": {
      "text/plain": [
       "array([[  9.20451939e-01],\n",
       "       [  8.99388671e-01],\n",
       "       [  9.98762846e-01],\n",
       "       ..., \n",
       "       [  3.08991194e-01],\n",
       "       [  8.27200187e-04],\n",
       "       [  8.14273179e-01]], dtype=float32)"
      ]
     },
     "execution_count": 25,
     "metadata": {},
     "output_type": "execute_result"
    }
   ],
   "source": [
    "# Using the trained network to generate predictions on new data\n",
    "model.predict(x_test)"
   ]
  },
  {
   "cell_type": "markdown",
   "metadata": {},
   "source": [
    "## Wrapping up\n",
    "\n",
    "- Preprocessing is necessary on raw data to be compatible for feeding - as tensors - into a neural network. Sequences of words can be encoded as binary vectors but there are other encoding options as well\n",
    "- Stacks of Dense layers with relu activatiosn can solve a wide range of problems\n",
    "- As they get better on their traininng data, neural networks eventually start overfitting and end up obtaining increasingly worse results on data they've never seen before. Be sure to always monitor performance on data that is outside of the training set. "
   ]
  },
  {
   "cell_type": "code",
   "execution_count": null,
   "metadata": {},
   "outputs": [],
   "source": []
  }
 ],
 "metadata": {
  "kernelspec": {
   "display_name": "Python [default]",
   "language": "python",
   "name": "python3"
  },
  "language_info": {
   "codemirror_mode": {
    "name": "ipython",
    "version": 3
   },
   "file_extension": ".py",
   "mimetype": "text/x-python",
   "name": "python",
   "nbconvert_exporter": "python",
   "pygments_lexer": "ipython3",
   "version": "3.6.3"
  }
 },
 "nbformat": 4,
 "nbformat_minor": 2
}
